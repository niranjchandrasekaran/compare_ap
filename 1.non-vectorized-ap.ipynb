{
 "cells": [
  {
   "cell_type": "code",
   "execution_count": 1,
   "metadata": {},
   "outputs": [],
   "source": [
    "import pandas as pd\n",
    "import utils\n",
    "import warnings\n",
    "import random\n",
    "\n",
    "warnings.simplefilter(action=\"ignore\", category=FutureWarning)\n",
    "random.seed(12527)"
   ]
  },
  {
   "cell_type": "code",
   "execution_count": 2,
   "metadata": {},
   "outputs": [],
   "source": [
    "# Read the data\n",
    "data = pd.read_parquet('../compare_parquet/data.parquet')"
   ]
  },
  {
   "cell_type": "code",
   "execution_count": 3,
   "metadata": {},
   "outputs": [
    {
     "name": "stdout",
     "output_type": "stream",
     "text": [
      "Computing metric for compound-A549-24\n"
     ]
    },
    {
     "name": "stderr",
     "output_type": "stream",
     "text": [
      "100%|██████████| 306/306 [02:23<00:00,  2.14it/s]\n"
     ]
    },
    {
     "name": "stdout",
     "output_type": "stream",
     "text": [
      "Computing metric for compound-A549-48\n"
     ]
    },
    {
     "name": "stderr",
     "output_type": "stream",
     "text": [
      "100%|██████████| 306/306 [01:51<00:00,  2.75it/s]\n"
     ]
    },
    {
     "name": "stdout",
     "output_type": "stream",
     "text": [
      "Computing metric for crispr-A549-144\n"
     ]
    },
    {
     "name": "stderr",
     "output_type": "stream",
     "text": [
      "100%|██████████| 305/305 [02:14<00:00,  2.27it/s]\n"
     ]
    },
    {
     "name": "stdout",
     "output_type": "stream",
     "text": [
      "Computing metric for crispr-A549-96\n"
     ]
    },
    {
     "name": "stderr",
     "output_type": "stream",
     "text": [
      "100%|██████████| 305/305 [01:56<00:00,  2.62it/s]\n"
     ]
    },
    {
     "name": "stdout",
     "output_type": "stream",
     "text": [
      "Computing metric for orf-A549-96\n"
     ]
    },
    {
     "name": "stderr",
     "output_type": "stream",
     "text": [
      "100%|██████████| 160/160 [00:53<00:00,  3.00it/s]\n"
     ]
    },
    {
     "name": "stdout",
     "output_type": "stream",
     "text": [
      "Computing metric for orf-A549-48\n"
     ]
    },
    {
     "name": "stderr",
     "output_type": "stream",
     "text": [
      "100%|██████████| 160/160 [00:53<00:00,  3.00it/s]\n"
     ]
    },
    {
     "name": "stdout",
     "output_type": "stream",
     "text": [
      "Computing metric for compound-U2OS-24\n"
     ]
    },
    {
     "name": "stderr",
     "output_type": "stream",
     "text": [
      "100%|██████████| 306/306 [03:51<00:00,  1.32it/s]\n"
     ]
    },
    {
     "name": "stdout",
     "output_type": "stream",
     "text": [
      "Computing metric for compound-U2OS-48\n"
     ]
    },
    {
     "name": "stderr",
     "output_type": "stream",
     "text": [
      "100%|██████████| 306/306 [01:56<00:00,  2.63it/s]\n"
     ]
    },
    {
     "name": "stdout",
     "output_type": "stream",
     "text": [
      "Computing metric for crispr-U2OS-144\n"
     ]
    },
    {
     "name": "stderr",
     "output_type": "stream",
     "text": [
      "100%|██████████| 305/305 [01:54<00:00,  2.66it/s]\n"
     ]
    },
    {
     "name": "stdout",
     "output_type": "stream",
     "text": [
      "Computing metric for crispr-U2OS-96\n"
     ]
    },
    {
     "name": "stderr",
     "output_type": "stream",
     "text": [
      "100%|██████████| 305/305 [01:49<00:00,  2.78it/s]\n"
     ]
    },
    {
     "name": "stdout",
     "output_type": "stream",
     "text": [
      "Computing metric for orf-U2OS-48\n"
     ]
    },
    {
     "name": "stderr",
     "output_type": "stream",
     "text": [
      "100%|██████████| 160/160 [00:50<00:00,  3.14it/s]\n"
     ]
    },
    {
     "name": "stdout",
     "output_type": "stream",
     "text": [
      "Computing metric for orf-U2OS-96\n"
     ]
    },
    {
     "name": "stderr",
     "output_type": "stream",
     "text": [
      "100%|██████████| 160/160 [00:51<00:00,  3.10it/s]\n"
     ]
    }
   ],
   "source": [
    "random_baseline_ap = pd.DataFrame(columns=[\"ap\", \"n_matches\", \"n_reference\"])\n",
    "results = pd.DataFrame()\n",
    "\n",
    "for cell in data.Metadata_Cell_type.unique():\n",
    "    cell_df = data.query(\"Metadata_Cell_type == @cell\")\n",
    "    for perturbation in cell_df.Metadata_Perturbation.unique():\n",
    "        perturbation_df = cell_df.query(\"Metadata_Perturbation == @perturbation\")\n",
    "        for time in perturbation_df.Metadata_Time.unique():\n",
    "            time_df = perturbation_df.query(\"Metadata_Time == @time\").copy()\n",
    "            \n",
    "            if perturbation == \"compound\":\n",
    "                time_df[\"Metadata_broad_sample\"].fillna(\"DMSO\", inplace=True)\n",
    "            \n",
    "            time_df = utils.remove_empty_wells(time_df).reset_index(drop=True)\n",
    "\n",
    "            match_dict = {\n",
    "                \"filter\": {\"Metadata_control_type\": [\"'negcon'\"]},\n",
    "                \"matching\": [\"Metadata_broad_sample\"],\n",
    "            }\n",
    "\n",
    "            reference_dict = {\n",
    "                \"filter\": {\n",
    "                    \"Metadata_pert_type\": [\"'trt'\"],\n",
    "                    \"Metadata_control_type\": [\n",
    "                        \"'poscon_orf'\",\n",
    "                        \"'poscon_diverse'\",\n",
    "                        \"'poscon_cp'\",\n",
    "                    ],\n",
    "                },\n",
    "                \"matching\": [\"Metadata_Plate\"],\n",
    "            }\n",
    "            \n",
    "            print(f'Computing metric for {perturbation}-{cell}-{time}')\n",
    "\n",
    "            metric = utils.AveragePrecision_non_vectorized(\n",
    "                time_df,\n",
    "                match_dict,\n",
    "                reference_dict,\n",
    "                100,\n",
    "                random_baseline_ap,\n",
    "                anti_match=False,\n",
    "            )\n",
    "\n",
    "            results = pd.concat([results, (\n",
    "                metric.ap\n",
    "                .assign(Metadata_Perturbation=perturbation)\n",
    "                .assign(Cell_Time=f'{cell}_{utils.time_point(perturbation, time)}')\n",
    "            )], axis=0)"
   ]
  },
  {
   "cell_type": "code",
   "execution_count": 5,
   "metadata": {},
   "outputs": [],
   "source": [
    "results.groupby([\"Metadata_Perturbation\", \"Cell_Time\", \"Metadata_broad_sample\"])[\n",
    "    [\"ap\", \"ap_corrected\"]\n",
    "].mean().reset_index().rename(columns={\"ap\": \"mAP\", \"ap_corrected\": \"adjusted_mAP\"}).to_csv(\"output/non-vectorized-ap.csv\", index=False)"
   ]
  }
 ],
 "metadata": {
  "kernelspec": {
   "display_name": "ap-compare",
   "language": "python",
   "name": "python3"
  },
  "language_info": {
   "codemirror_mode": {
    "name": "ipython",
    "version": 3
   },
   "file_extension": ".py",
   "mimetype": "text/x-python",
   "name": "python",
   "nbconvert_exporter": "python",
   "pygments_lexer": "ipython3",
   "version": "3.10.6"
  },
  "orig_nbformat": 4
 },
 "nbformat": 4,
 "nbformat_minor": 2
}
