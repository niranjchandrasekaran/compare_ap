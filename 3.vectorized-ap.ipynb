{
 "cells": [
  {
   "cell_type": "code",
   "execution_count": 1,
   "metadata": {},
   "outputs": [],
   "source": [
    "import pandas as pd\n",
    "import utils"
   ]
  },
  {
   "cell_type": "code",
   "execution_count": 2,
   "metadata": {},
   "outputs": [],
   "source": [
    "# Read the data\n",
    "data = pd.read_parquet('../compare_parquet/data.parquet')"
   ]
  },
  {
   "cell_type": "code",
   "execution_count": 3,
   "metadata": {},
   "outputs": [
    {
     "name": "stdout",
     "output_type": "stream",
     "text": [
      "Computing metric for compound-A549-24\n",
      "Computing metric for compound-A549-48\n",
      "Computing metric for crispr-A549-144\n",
      "Computing metric for crispr-A549-96\n",
      "Computing metric for orf-A549-96\n",
      "Computing metric for orf-A549-48\n",
      "Computing metric for compound-U2OS-24\n",
      "Computing metric for compound-U2OS-48\n",
      "Computing metric for crispr-U2OS-144\n",
      "Computing metric for crispr-U2OS-96\n",
      "Computing metric for orf-U2OS-48\n",
      "Computing metric for orf-U2OS-96\n"
     ]
    }
   ],
   "source": [
    "results = pd.DataFrame()\n",
    "\n",
    "for cell in data.Metadata_Cell_type.unique():\n",
    "    cell_df = data.query(\"Metadata_Cell_type == @cell\")\n",
    "    for perturbation in cell_df.Metadata_Perturbation.unique():\n",
    "        perturbation_df = cell_df.query(\"Metadata_Perturbation == @perturbation\")\n",
    "        for time in perturbation_df.Metadata_Time.unique():\n",
    "            time_df = perturbation_df.query(\"Metadata_Time == @time\").copy()\n",
    "\n",
    "            if perturbation == \"compound\":\n",
    "                time_df[\"Metadata_broad_sample\"].fillna(\"DMSO\", inplace=True)\n",
    "\n",
    "            time_df = utils.remove_empty_wells(time_df).reset_index(drop=True)\n",
    "\n",
    "            pos_dict = {\n",
    "                \"filter\": {\"Metadata_control_type\": [\"'negcon'\"]},\n",
    "                \"matching_col\": [\"Metadata_broad_sample\"],\n",
    "            }\n",
    "\n",
    "            ref_dict = {\n",
    "                \"filter\": {\n",
    "                    \"Metadata_pert_type\": [\"'trt'\"],\n",
    "                    \"Metadata_control_type\": [\n",
    "                        \"'poscon_orf'\",\n",
    "                        \"'poscon_diverse'\",\n",
    "                        \"'poscon_cp'\",\n",
    "                    ],\n",
    "                },\n",
    "                \"matching_col\": [\"Metadata_Plate\"],\n",
    "            }\n",
    "\n",
    "            print(f'Computing metric for {perturbation}-{cell}-{time}')\n",
    "\n",
    "            metric = utils.AveragePrecision(\n",
    "                time_df, pos_dict, ref_dict,\n",
    "            )\n",
    "\n",
    "            results = pd.concat([results, (\n",
    "                metric.ap\n",
    "                .assign(Metadata_Perturbation=perturbation)\n",
    "                .assign(Cell_Time=f'{cell}_{utils.time_point(perturbation, time)}')\n",
    "            )], axis=0)"
   ]
  },
  {
   "cell_type": "code",
   "execution_count": null,
   "metadata": {},
   "outputs": [],
   "source": [
    "results.groupby([\"Metadata_Perturbation\", \"Cell_Time\", \"Metadata_broad_sample\"])[\n",
    "    [\"average_precision\", \"adjusted_average_precision\"]\n",
    "].mean().reset_index().rename(columns={\"average_precision\": \"mAP\", \"adjusted_average_precision\": \"adjusted_mAP\"}).to_csv(\"output/vectorized-ap.csv\", index=False)"
   ]
  }
 ],
 "metadata": {
  "kernelspec": {
   "display_name": "ap-compare",
   "language": "python",
   "name": "python3"
  },
  "language_info": {
   "codemirror_mode": {
    "name": "ipython",
    "version": 3
   },
   "file_extension": ".py",
   "mimetype": "text/x-python",
   "name": "python",
   "nbconvert_exporter": "python",
   "pygments_lexer": "ipython3",
   "version": "3.10.6"
  },
  "orig_nbformat": 4
 },
 "nbformat": 4,
 "nbformat_minor": 2
}
