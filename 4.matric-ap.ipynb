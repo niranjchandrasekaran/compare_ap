{
 "cells": [
  {
   "cell_type": "code",
   "execution_count": 23,
   "metadata": {},
   "outputs": [],
   "source": [
    "import pandas as pd\n",
    "import utils"
   ]
  },
  {
   "cell_type": "code",
   "execution_count": 24,
   "metadata": {},
   "outputs": [],
   "source": [
    "def time_point(modality, time_point):\n",
    "    \"\"\"\n",
    "    Convert time point in hr to long or short time description\n",
    "    Parameters:\n",
    "    -----------\n",
    "    modality: str\n",
    "        perturbation modality\n",
    "    time_point: int\n",
    "        time point in hr\n",
    "    Returns:\n",
    "    -------\n",
    "    str of time description\n",
    "    \"\"\"\n",
    "    if modality == \"compound\":\n",
    "        if time_point == \"24\":\n",
    "            time = \"short\"\n",
    "        else:\n",
    "            time = \"long\"\n",
    "    elif modality == \"orf\":\n",
    "        if time_point == \"48\":\n",
    "            time = \"short\"\n",
    "        else:\n",
    "            time = \"long\"\n",
    "    else:\n",
    "        if time_point == \"96\":\n",
    "            time = \"short\"\n",
    "        else:\n",
    "            time = \"long\"\n",
    "\n",
    "    return time"
   ]
  },
  {
   "cell_type": "code",
   "execution_count": 25,
   "metadata": {},
   "outputs": [],
   "source": [
    "# Matric results were pre-calcuated and saved in a parquet file. Those are read here.\n",
    "\n",
    "cols = [\n",
    "    \"Metadata_Perturbation\",\n",
    "    \"Metadata_Time\",\n",
    "    \"Metadata_Cell_type\",\n",
    "    \"Metadata_broad_sample\",\n",
    "    \"sim_retrieval_average_precision_ref_i\",\n",
    "    \"sim_retrieval_average_precision_ref_i_adjusted\",\n",
    "]\n",
    "\n",
    "results = (\n",
    "    pd.read_parquet('../compare_parquet/metrics_level_1_0_ref_null_adjusted.parquet')[cols]\n",
    ")\n",
    "\n",
    "results[\"Metadata_Time\"] = results[\"Metadata_Time\"].astype(str)\n",
    "results[\"Timepoint\"] = results.apply(lambda x: time_point(x['Metadata_Perturbation'], x['Metadata_Time']), axis=1)\n",
    "results[\"Cell_Time\"] = results[[\"Metadata_Cell_type\", \"Timepoint\"]].agg(\n",
    "    \"_\".join, axis=1\n",
    ")\n"
   ]
  },
  {
   "cell_type": "code",
   "execution_count": 28,
   "metadata": {},
   "outputs": [],
   "source": [
    "results = (\n",
    "    results.groupby([\"Metadata_Perturbation\", \"Cell_Time\", \"Metadata_broad_sample\"])[\n",
    "        [\n",
    "            \"sim_retrieval_average_precision_ref_i\",\n",
    "            \"sim_retrieval_average_precision_ref_i_adjusted\",\n",
    "        ]\n",
    "    ]\n",
    "    .mean()\n",
    "    .reset_index()\n",
    "    .rename(\n",
    "        columns={\n",
    "            \"sim_retrieval_average_precision_ref_i\": \"mAP\",\n",
    "            \"sim_retrieval_average_precision_ref_i_adjusted\": \"adjusted_mAP\",\n",
    "        }\n",
    "    )\n",
    ")\n",
    "\n",
    "results.dropna(inplace=True)\n",
    "\n",
    "results.to_csv(\"output/matric-ap.csv\", index=False)"
   ]
  }
 ],
 "metadata": {
  "kernelspec": {
   "display_name": "ap-compare",
   "language": "python",
   "name": "python3"
  },
  "language_info": {
   "codemirror_mode": {
    "name": "ipython",
    "version": 3
   },
   "file_extension": ".py",
   "mimetype": "text/x-python",
   "name": "python",
   "nbconvert_exporter": "python",
   "pygments_lexer": "ipython3",
   "version": "3.10.6"
  },
  "orig_nbformat": 4
 },
 "nbformat": 4,
 "nbformat_minor": 2
}
