{
 "cells": [
  {
   "cell_type": "code",
   "execution_count": 15,
   "metadata": {},
   "outputs": [],
   "source": [
    "import pandas as pd\n",
    "from tqdm import tqdm\n",
    "import utils\n",
    "from copairs.map import run_pipeline\n",
    "import numpy as np\n",
    "import logging\n",
    "import utils\n",
    "\n",
    "logging.getLogger(\"copairs\").setLevel(logging.INFO)"
   ]
  },
  {
   "cell_type": "code",
   "execution_count": 16,
   "metadata": {},
   "outputs": [],
   "source": [
    "# Read the data\n",
    "data = pd.read_parquet('../compare_parquet/data.parquet')"
   ]
  },
  {
   "cell_type": "code",
   "execution_count": 20,
   "metadata": {},
   "outputs": [
    {
     "name": "stderr",
     "output_type": "stream",
     "text": [
      "INFO:2023-04-24 16:25:23,016:copairs:Finding positive and negative pairs...\n",
      "INFO:2023-04-24 16:25:23,103:copairs:Computing positive similarities...\n"
     ]
    },
    {
     "data": {
      "application/vnd.jupyter.widget-view+json": {
       "model_id": "8b0398440af04080bee8f7ded95746d8",
       "version_major": 2,
       "version_minor": 0
      },
      "text/plain": [
       "  0%|          | 0/2 [00:00<?, ?it/s]"
      ]
     },
     "metadata": {},
     "output_type": "display_data"
    },
    {
     "ename": "KeyError",
     "evalue": "\"None of [Int64Index([  0,   0,   0, 768, 768, 384, 512, 512, 512, 512,\\n            ...\\n            703, 703, 703, 703, 703, 703, 703, 703, 703, 703],\\n           dtype='int64', length=20000)] are in the [columns]\"",
     "output_type": "error",
     "traceback": [
      "\u001b[0;31m---------------------------------------------------------------------------\u001b[0m",
      "\u001b[0;31mRemoteTraceback\u001b[0m                           Traceback (most recent call last)",
      "\u001b[0;31mRemoteTraceback\u001b[0m: \n\"\"\"\nTraceback (most recent call last):\n  File \"/usr/local/anaconda3/envs/ap-compare/lib/python3.10/multiprocessing/pool.py\", line 125, in worker\n    result = (True, func(*args, **kwds))\n  File \"/usr/local/anaconda3/envs/ap-compare/lib/python3.10/site-packages/copairs/compute_np.py\", line 13, in process_batch\n    x_sample = feats[pair_ix[i:i + batch_size, 0]]\n  File \"/usr/local/anaconda3/envs/ap-compare/lib/python3.10/site-packages/pandas/core/frame.py\", line 3810, in __getitem__\n    indexer = self.columns._get_indexer_strict(key, \"columns\")[1]\n  File \"/usr/local/anaconda3/envs/ap-compare/lib/python3.10/site-packages/pandas/core/indexes/base.py\", line 6111, in _get_indexer_strict\n    self._raise_if_missing(keyarr, indexer, axis_name)\n  File \"/usr/local/anaconda3/envs/ap-compare/lib/python3.10/site-packages/pandas/core/indexes/base.py\", line 6171, in _raise_if_missing\n    raise KeyError(f\"None of [{key}] are in the [{axis_name}]\")\nKeyError: \"None of [Int64Index([  0,   0,   0, 768, 768, 384, 512, 512, 512, 512,\\n            ...\\n            703, 703, 703, 703, 703, 703, 703, 703, 703, 703],\\n           dtype='int64', length=20000)] are in the [columns]\"\n\"\"\"",
      "\nThe above exception was the direct cause of the following exception:\n",
      "\u001b[0;31mKeyError\u001b[0m                                  Traceback (most recent call last)",
      "Cell \u001b[0;32mIn[20], line 38\u001b[0m\n\u001b[1;32m     35\u001b[0m meta \u001b[39m=\u001b[39m utils\u001b[39m.\u001b[39mget_metadata(time_df)\n\u001b[1;32m     36\u001b[0m feats \u001b[39m=\u001b[39m utils\u001b[39m.\u001b[39mget_featuredata(time_df)\n\u001b[0;32m---> 38\u001b[0m metric \u001b[39m=\u001b[39m run_pipeline(\n\u001b[1;32m     39\u001b[0m     meta, feats, pos_sameby, pos_diffby, neg_sameby, neg_diffby, null_size\n\u001b[1;32m     40\u001b[0m )\n\u001b[1;32m     42\u001b[0m results \u001b[39m=\u001b[39m pd\u001b[39m.\u001b[39mconcat(\n\u001b[1;32m     43\u001b[0m     [\n\u001b[1;32m     44\u001b[0m         results,\n\u001b[0;32m   (...)\u001b[0m\n\u001b[1;32m     51\u001b[0m     axis\u001b[39m=\u001b[39m\u001b[39m0\u001b[39m,\n\u001b[1;32m     52\u001b[0m )\n",
      "File \u001b[0;32m/usr/local/anaconda3/envs/ap-compare/lib/python3.10/site-packages/copairs/map.py:139\u001b[0m, in \u001b[0;36mrun_pipeline\u001b[0;34m(meta, feats, pos_sameby, pos_diffby, neg_sameby, neg_diffby, null_size, batch_size)\u001b[0m\n\u001b[1;32m    136\u001b[0m pos_pairs, neg_pairs \u001b[39m=\u001b[39m find_pairs(meta, pos_sameby, pos_diffby, neg_sameby,\n\u001b[1;32m    137\u001b[0m                                   neg_diffby)\n\u001b[1;32m    138\u001b[0m logger\u001b[39m.\u001b[39minfo(\u001b[39m'\u001b[39m\u001b[39mComputing positive similarities...\u001b[39m\u001b[39m'\u001b[39m)\n\u001b[0;32m--> 139\u001b[0m pos_dfs \u001b[39m=\u001b[39m compute_similarities(feats, pos_pairs, pos_sameby, batch_size)\n\u001b[1;32m    140\u001b[0m logger\u001b[39m.\u001b[39minfo(\u001b[39m'\u001b[39m\u001b[39mComputing negative similarities...\u001b[39m\u001b[39m'\u001b[39m)\n\u001b[1;32m    141\u001b[0m neg_dfs \u001b[39m=\u001b[39m compute_similarities(feats, neg_pairs, neg_sameby, batch_size)\n",
      "File \u001b[0;32m/usr/local/anaconda3/envs/ap-compare/lib/python3.10/site-packages/copairs/compute.py:48\u001b[0m, in \u001b[0;36mcompute_similarities\u001b[0;34m(feats, dict_pairs, sameby, batch_size)\u001b[0m\n\u001b[1;32m     46\u001b[0m dist_df \u001b[39m=\u001b[39m pd\u001b[39m.\u001b[39mconcat(dist_df)\n\u001b[1;32m     47\u001b[0m pairs_ix \u001b[39m=\u001b[39m np\u001b[39m.\u001b[39mvstack(\u001b[39mlist\u001b[39m(dict_pairs\u001b[39m.\u001b[39mvalues()))\n\u001b[0;32m---> 48\u001b[0m dists \u001b[39m=\u001b[39m cosine_indexed(feats, pairs_ix, batch_size\u001b[39m=\u001b[39;49mbatch_size)\n\u001b[1;32m     49\u001b[0m dist_df[\u001b[39m'\u001b[39m\u001b[39mdist\u001b[39m\u001b[39m'\u001b[39m] \u001b[39m=\u001b[39m dists\n\u001b[1;32m     50\u001b[0m \u001b[39mreturn\u001b[39;00m dist_df\n",
      "File \u001b[0;32m/usr/local/anaconda3/envs/ap-compare/lib/python3.10/site-packages/copairs/compute.py:32\u001b[0m, in \u001b[0;36mcosine_indexed\u001b[0;34m(feats, pairs, batch_size)\u001b[0m\n\u001b[1;32m     30\u001b[0m \u001b[39m\u001b[39m\u001b[39m'''Compute pairwise cosine'''\u001b[39;00m\n\u001b[1;32m     31\u001b[0m backend \u001b[39m=\u001b[39m compute_tf \u001b[39mif\u001b[39;00m TF_ENABLED \u001b[39melse\u001b[39;00m compute_np\n\u001b[0;32m---> 32\u001b[0m \u001b[39mreturn\u001b[39;00m backend\u001b[39m.\u001b[39;49mpairwise_indexed(feats, pairs, backend\u001b[39m.\u001b[39;49mpairwise_cosine,\n\u001b[1;32m     33\u001b[0m                                 batch_size)\n",
      "File \u001b[0;32m/usr/local/anaconda3/envs/ap-compare/lib/python3.10/site-packages/copairs/compute_np.py:34\u001b[0m, in \u001b[0;36mpairwise_indexed\u001b[0;34m(feats, pair_ix, batch_pairwise_op, batch_size)\u001b[0m\n\u001b[1;32m     32\u001b[0m \u001b[39mwith\u001b[39;00m Pool(NUM_PROC) \u001b[39mas\u001b[39;00m p:\n\u001b[1;32m     33\u001b[0m     idx \u001b[39m=\u001b[39m \u001b[39mlist\u001b[39m(\u001b[39mrange\u001b[39m(\u001b[39m0\u001b[39m, num_pairs, batch_size))\n\u001b[0;32m---> 34\u001b[0m     corrs \u001b[39m=\u001b[39m \u001b[39mlist\u001b[39;49m(tqdm(p\u001b[39m.\u001b[39;49mimap(par_func, idx), total\u001b[39m=\u001b[39;49m\u001b[39mlen\u001b[39;49m(idx), leave\u001b[39m=\u001b[39;49m\u001b[39mFalse\u001b[39;49;00m))\n\u001b[1;32m     36\u001b[0m corrs \u001b[39m=\u001b[39m np\u001b[39m.\u001b[39mconcatenate(corrs)\n\u001b[1;32m     37\u001b[0m \u001b[39massert\u001b[39;00m \u001b[39mlen\u001b[39m(corrs) \u001b[39m==\u001b[39m num_pairs\n",
      "File \u001b[0;32m/usr/local/anaconda3/envs/ap-compare/lib/python3.10/site-packages/tqdm/notebook.py:259\u001b[0m, in \u001b[0;36mtqdm_notebook.__iter__\u001b[0;34m(self)\u001b[0m\n\u001b[1;32m    257\u001b[0m \u001b[39mtry\u001b[39;00m:\n\u001b[1;32m    258\u001b[0m     it \u001b[39m=\u001b[39m \u001b[39msuper\u001b[39m(tqdm_notebook, \u001b[39mself\u001b[39m)\u001b[39m.\u001b[39m\u001b[39m__iter__\u001b[39m()\n\u001b[0;32m--> 259\u001b[0m     \u001b[39mfor\u001b[39;00m obj \u001b[39min\u001b[39;00m it:\n\u001b[1;32m    260\u001b[0m         \u001b[39m# return super(tqdm...) will not catch exception\u001b[39;00m\n\u001b[1;32m    261\u001b[0m         \u001b[39myield\u001b[39;00m obj\n\u001b[1;32m    262\u001b[0m \u001b[39m# NB: except ... [ as ...] breaks IPython async KeyboardInterrupt\u001b[39;00m\n",
      "File \u001b[0;32m/usr/local/anaconda3/envs/ap-compare/lib/python3.10/site-packages/tqdm/std.py:1195\u001b[0m, in \u001b[0;36mtqdm.__iter__\u001b[0;34m(self)\u001b[0m\n\u001b[1;32m   1192\u001b[0m time \u001b[39m=\u001b[39m \u001b[39mself\u001b[39m\u001b[39m.\u001b[39m_time\n\u001b[1;32m   1194\u001b[0m \u001b[39mtry\u001b[39;00m:\n\u001b[0;32m-> 1195\u001b[0m     \u001b[39mfor\u001b[39;00m obj \u001b[39min\u001b[39;00m iterable:\n\u001b[1;32m   1196\u001b[0m         \u001b[39myield\u001b[39;00m obj\n\u001b[1;32m   1197\u001b[0m         \u001b[39m# Update and possibly print the progressbar.\u001b[39;00m\n\u001b[1;32m   1198\u001b[0m         \u001b[39m# Note: does not call self.update(1) for speed optimisation.\u001b[39;00m\n",
      "File \u001b[0;32m/usr/local/anaconda3/envs/ap-compare/lib/python3.10/multiprocessing/pool.py:873\u001b[0m, in \u001b[0;36mIMapIterator.next\u001b[0;34m(self, timeout)\u001b[0m\n\u001b[1;32m    871\u001b[0m \u001b[39mif\u001b[39;00m success:\n\u001b[1;32m    872\u001b[0m     \u001b[39mreturn\u001b[39;00m value\n\u001b[0;32m--> 873\u001b[0m \u001b[39mraise\u001b[39;00m value\n",
      "\u001b[0;31mKeyError\u001b[0m: \"None of [Int64Index([  0,   0,   0, 768, 768, 384, 512, 512, 512, 512,\\n            ...\\n            703, 703, 703, 703, 703, 703, 703, 703, 703, 703],\\n           dtype='int64', length=20000)] are in the [columns]\""
     ]
    }
   ],
   "source": [
    "results = pd.DataFrame()\n",
    "\n",
    "for cell in data.Metadata_Cell_type.unique():\n",
    "    cell_df = data.query(\"Metadata_Cell_type == @cell\")\n",
    "    for perturbation in cell_df.Metadata_Perturbation.unique():\n",
    "        perturbation_df = cell_df.query(\"Metadata_Perturbation == @perturbation\")\n",
    "        for time in perturbation_df.Metadata_Time.unique():\n",
    "            time_df = (\n",
    "                perturbation_df.query(\"Metadata_Time == @time\")\n",
    "                .copy()\n",
    "                .assign(\n",
    "                    Metadata_negcon=lambda x: x.apply(\n",
    "                        lambda y: 1 if y[\"Metadata_control_type\"] == \"negcon\" else 0,\n",
    "                        axis=1,\n",
    "                    )\n",
    "                )\n",
    "                .assign(\n",
    "                    Metadata_Plate_Well=lambda x: x.Metadata_Plate\n",
    "                    + \"_\"\n",
    "                    + x.Metadata_Well\n",
    "                )\n",
    "            )\n",
    "\n",
    "            if perturbation == \"compound\":\n",
    "                time_df[\"Metadata_broad_sample\"].fillna(\"DMSO\", inplace=True)\n",
    "\n",
    "            time_df = utils.remove_empty_wells(time_df).reset_index(drop=True)\n",
    "\n",
    "            pos_sameby = \"Metadata_broad_sample\"\n",
    "            pos_diffby = \"Metadata_Plate_Well\"\n",
    "            neg_sameby = \"Metadata_Plate\"\n",
    "            neg_diffby = \"Metadata_negcon\"\n",
    "            null_size = 10000\n",
    "\n",
    "            meta = utils.get_metadata(time_df)\n",
    "            feats = utils.get_featuredata(time_df)\n",
    "\n",
    "            print(f'Computing metric for {perturbation}-{cell}-{time}')\n",
    "\n",
    "            metric = run_pipeline(\n",
    "                meta, feats, pos_sameby, pos_diffby, neg_sameby, neg_diffby, null_size\n",
    "            )\n",
    "\n",
    "            results = pd.concat(\n",
    "                [\n",
    "                    results,\n",
    "                    (\n",
    "                        metric.ap.assign(Metadata_Perturbation=perturbation).assign(\n",
    "                            Cell_Time=f\"{cell}_{utils.time_point(perturbation, time)}\"\n",
    "                        )\n",
    "                    ),\n",
    "                ],\n",
    "                axis=0,\n",
    "            )"
   ]
  },
  {
   "cell_type": "code",
   "execution_count": null,
   "metadata": {},
   "outputs": [],
   "source": [
    "results.head()"
   ]
  }
 ],
 "metadata": {
  "kernelspec": {
   "display_name": "ap-compare",
   "language": "python",
   "name": "python3"
  },
  "language_info": {
   "codemirror_mode": {
    "name": "ipython",
    "version": 3
   },
   "file_extension": ".py",
   "mimetype": "text/x-python",
   "name": "python",
   "nbconvert_exporter": "python",
   "pygments_lexer": "ipython3",
   "version": "3.10.6"
  },
  "orig_nbformat": 4
 },
 "nbformat": 4,
 "nbformat_minor": 2
}
